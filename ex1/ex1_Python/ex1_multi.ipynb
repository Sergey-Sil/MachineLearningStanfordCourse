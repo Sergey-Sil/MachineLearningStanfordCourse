{
 "cells": [
  {
   "cell_type": "code",
   "execution_count": 1,
   "metadata": {
    "collapsed": true
   },
   "outputs": [],
   "source": [
    "import matplotlib.pyplot as plt\n",
    "import numpy as np"
   ]
  },
  {
   "cell_type": "code",
   "execution_count": 105,
   "metadata": {
    "collapsed": false
   },
   "outputs": [],
   "source": [
    "with open('ex1data2.txt') as f:\n",
    "    data = f.readlines()\n",
    "\n",
    "X = []\n",
    "Y = []\n",
    "\n",
    "for i in data:\n",
    "    row = [float(x) for x in i.rstrip().split(',')]\n",
    "    X.append(row[0:-1])\n",
    "    Y.append(row[-1])\n",
    "    \n",
    "X = np.array(X)\n",
    "Y = np.array(Y)"
   ]
  },
  {
   "cell_type": "code",
   "execution_count": 104,
   "metadata": {
    "collapsed": false
   },
   "outputs": [],
   "source": [
    "class LinearRegression():\n",
    "    \n",
    "    def fit(self, X, y, alpha, num_iter):\n",
    "        X = self.feature_normalize(X)\n",
    "        theta = np.zeros(len(X[0]))\n",
    "        theta= self.gradient_descent_multi(X, y, theta, alpha, num_iter)\n",
    "        return theta\n",
    "        \n",
    "    \n",
    "    def feature_normalize(self, X):\n",
    "        X = X[:,1:]\n",
    "        n = np.size(X[0])\n",
    "        X_norm = X\n",
    "        for i in range(n):\n",
    "            avg = np.mean(X[:, i])\n",
    "            deviation = np.std(X[:, i])\n",
    "            X_norm[:, i] = X_norm[:, i] - avg\n",
    "            X_norm[:, i] = X_norm[:, i] / deviation\n",
    "        X_norm = np.column_stack((np.ones(len(X_norm)), X))\n",
    "        return X_norm\n",
    "    \n",
    "    def compute_cost_multi(self, X, y, theta):\n",
    "        m = len(y)\n",
    "        j = 0\n",
    "        h = np.dot(X, theta)\n",
    "        squared_errors = (h - y) ** 2\n",
    "        j = (1 / (2 * m)) * sum(squared_errors)\n",
    "        return j\n",
    "\n",
    "    def gradient_descent_multi(self, X, y, theta, alpha, num_iters):\n",
    "        m = len(y)\n",
    "        for iter in range(num_iters):\n",
    "            h = np.dot(X,theta)\n",
    "            theta -= alpha * (1 / m) * (np.dot(X.transpose(), (h - y))) \n",
    "        return theta"
   ]
  },
  {
   "cell_type": "code",
   "execution_count": 106,
   "metadata": {
    "collapsed": false
   },
   "outputs": [],
   "source": [
    "X = np.column_stack((np.ones(len(X)), X))\n",
    "alpha = 0.01\n",
    "num_iters = 400"
   ]
  },
  {
   "cell_type": "code",
   "execution_count": 110,
   "metadata": {
    "collapsed": false
   },
   "outputs": [
    {
     "name": "stdout",
     "output_type": "stream",
     "text": [
      "346627.611641 399900.0\n",
      "282899.293597 329900.0\n",
      "384055.353985 369000.0\n",
      "255293.831321 232000.0\n",
      "464261.967662 539900.0\n",
      "335920.216045 299900.0\n",
      "274553.918615 314900.0\n",
      "261024.295538 198999.0\n",
      "255081.37699 212000.0\n",
      "269496.115596 242500.0\n",
      "330230.187648 239999.0\n",
      "333477.323791 347000.0\n",
      "319568.365488 329999.0\n",
      "655487.357616 699900.0\n",
      "240919.528536 259900.0\n",
      "375750.414823 449900.0\n",
      "243155.104075 299900.0\n",
      "236873.28612 199900.0\n",
      "414821.943148 499998.0\n",
      "468181.765003 599000.0\n",
      "304015.621203 252900.0\n",
      "314975.90695 255000.0\n",
      "283405.073899 242900.0\n",
      "333011.979309 259900.0\n",
      "572458.516458 573900.0\n",
      "219676.755854 249900.0\n",
      "264944.092878 464500.0\n",
      "399987.433496 469000.0\n",
      "358766.338888 475000.0\n",
      "414022.836875 299900.0\n",
      "308780.098252 349900.0\n",
      "198353.111533 169900.0\n",
      "342874.695197 314900.0\n",
      "477245.374618 579900.0\n",
      "313918.772911 285900.0\n",
      "262288.746293 249900.0\n",
      "237252.621347 229900.0\n",
      "354507.642141 345000.0\n",
      "617892.734377 549000.0\n",
      "358300.994406 287000.0\n",
      "286652.210042 368500.0\n",
      "363571.251756 329900.0\n",
      "409511.249977 314000.0\n",
      "232321.263403 299000.0\n",
      "183978.808748 179900.0\n",
      "319103.021006 299900.0\n",
      "232700.598629 239500.0\n"
     ]
    }
   ],
   "source": [
    "mod = LinearRegression()\n",
    "theta = mod.fit(X, Y, alpha, num_iters)\n",
    "Y_test = np.dot(X, theta)\n",
    "for i in range(len(Y)):\n",
    "    print(Y_test[i], Y[i])"
   ]
  },
  {
   "cell_type": "code",
   "execution_count": null,
   "metadata": {
    "collapsed": true
   },
   "outputs": [],
   "source": []
  }
 ],
 "metadata": {
  "kernelspec": {
   "display_name": "Python 3",
   "language": "python",
   "name": "python3"
  },
  "language_info": {
   "codemirror_mode": {
    "name": "ipython",
    "version": 3
   },
   "file_extension": ".py",
   "mimetype": "text/x-python",
   "name": "python",
   "nbconvert_exporter": "python",
   "pygments_lexer": "ipython3",
   "version": "3.5.2"
  }
 },
 "nbformat": 4,
 "nbformat_minor": 1
}
